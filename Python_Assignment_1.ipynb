{
  "nbformat": 4,
  "nbformat_minor": 0,
  "metadata": {
    "colab": {
      "name": " Python Assignment 1.ipynb",
      "provenance": [],
      "authorship_tag": "ABX9TyPPNOeu4igpHPUSw7Btmbgh",
      "include_colab_link": true
    },
    "kernelspec": {
      "name": "python3",
      "display_name": "Python 3"
    }
  },
  "cells": [
    {
      "cell_type": "markdown",
      "metadata": {
        "id": "view-in-github",
        "colab_type": "text"
      },
      "source": [
        "<a href=\"https://colab.research.google.com/github/anil1991das/PythonForAll/blob/master/Python_Assignment_1.ipynb\" target=\"_parent\"><img src=\"https://colab.research.google.com/assets/colab-badge.svg\" alt=\"Open In Colab\"/></a>"
      ]
    },
    {
      "cell_type": "markdown",
      "metadata": {
        "id": "LuQkB44JU77N",
        "colab_type": "text"
      },
      "source": [
        "1. Write a program which will find all such numbers which are divisible by 7 but are not a multiple of 5, between 2000 and 3200 (both included). The numbers obtained should be printed in a comma-separated sequence on a single line. "
      ]
    },
    {
      "cell_type": "code",
      "metadata": {
        "id": "83jmypxRNuIK",
        "colab_type": "code",
        "colab": {
          "base_uri": "https://localhost:8080/",
          "height": 54
        },
        "outputId": "0e2f75b1-1c76-41a7-a0d4-84f96d4b876d"
      },
      "source": [
        "numl=[]\n",
        "for x in range(2000, 3201):\n",
        "    if (x%7==0) and (x%5==0):\n",
        "        numl.append(str(x))\n",
        "print (','.join(numl))"
      ],
      "execution_count": 2,
      "outputs": [
        {
          "output_type": "stream",
          "text": [
            "2030,2065,2100,2135,2170,2205,2240,2275,2310,2345,2380,2415,2450,2485,2520,2555,2590,2625,2660,2695,2730,2765,2800,2835,2870,2905,2940,2975,3010,3045,3080,3115,3150,3185\n"
          ],
          "name": "stdout"
        }
      ]
    },
    {
      "cell_type": "markdown",
      "metadata": {
        "id": "jsMDX267WRDj",
        "colab_type": "text"
      },
      "source": [
        "2. Write a Python program to accept the user's first and last name and then getting them printed in the the reverse order with a space between first name and last name."
      ]
    },
    {
      "cell_type": "code",
      "metadata": {
        "id": "LBN9-J_vVqY1",
        "colab_type": "code",
        "colab": {
          "base_uri": "https://localhost:8080/",
          "height": 68
        },
        "outputId": "6e9a2313-d3b1-48a3-9635-4cc20d590980"
      },
      "source": [
        "a=input(\"Enter the first Name:\")\n",
        "b=input(\"Enter the second Name:\")\n",
        "print(a[::-1]+ \" \" +b[::-1])"
      ],
      "execution_count": 5,
      "outputs": [
        {
          "output_type": "stream",
          "text": [
            "Enter the first Name:hola\n",
            "Enter the second Name:holi\n",
            "aloh iloh\n"
          ],
          "name": "stdout"
        }
      ]
    },
    {
      "cell_type": "markdown",
      "metadata": {
        "id": "fnpGbu-LdPt7",
        "colab_type": "text"
      },
      "source": [
        "3. Write a Python program to find the volume of a sphere with diameter 12 cm.\n",
        "Formula: V=4/3 * π * r ** ***3***\n"
      ]
    },
    {
      "cell_type": "code",
      "metadata": {
        "id": "8zx1A5u0V8YT",
        "colab_type": "code",
        "colab": {
          "base_uri": "https://localhost:8080/",
          "height": 34
        },
        "outputId": "995490c6-bcc5-4c07-8d3b-74bcca5b759c"
      },
      "source": [
        "import math\n",
        "\n",
        "d=12\n",
        "r=d/2\n",
        "V= 4/3 * math.pi * r**3\n",
        "#V= 4/3 * math.pi * math.pow(r,3)\n",
        "print(V)"
      ],
      "execution_count": 8,
      "outputs": [
        {
          "output_type": "stream",
          "text": [
            "904.7786842338603\n"
          ],
          "name": "stdout"
        }
      ]
    },
    {
      "cell_type": "code",
      "metadata": {
        "id": "txI5AtyxdqXd",
        "colab_type": "code",
        "colab": {}
      },
      "source": [
        ""
      ],
      "execution_count": 0,
      "outputs": []
    }
  ]
}