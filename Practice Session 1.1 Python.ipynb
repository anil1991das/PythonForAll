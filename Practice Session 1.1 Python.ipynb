{
 "cells": [
  {
   "cell_type": "code",
   "execution_count": 23,
   "metadata": {},
   "outputs": [
    {
     "name": "stdout",
     "output_type": "stream",
     "text": [
      "10.0\n"
     ]
    },
    {
     "data": {
      "text/plain": [
       "float"
      ]
     },
     "execution_count": 23,
     "metadata": {},
     "output_type": "execute_result"
    }
   ],
   "source": [
    "#Shift + Enter to rnu the cell\n",
    "\n",
    "a=10.00\n",
    "print(a)\n",
    "type(a)"
   ]
  },
  {
   "cell_type": "code",
   "execution_count": 10,
   "metadata": {},
   "outputs": [
    {
     "name": "stdout",
     "output_type": "stream",
     "text": [
      "5192\n"
     ]
    }
   ],
   "source": [
    "b=5192L\n",
    "print(b)"
   ]
  },
  {
   "cell_type": "code",
   "execution_count": 14,
   "metadata": {},
   "outputs": [
    {
     "data": {
      "text/plain": [
       "int"
      ]
     },
     "execution_count": 14,
     "metadata": {},
     "output_type": "execute_result"
    }
   ],
   "source": [
    "c= 42981155\n",
    "c=c*5779\n",
    "type(c)\n",
    "c\n",
    "type(c)"
   ]
  },
  {
   "cell_type": "markdown",
   "metadata": {},
   "source": [
    "### Complex\n",
    "\n",
    "Complex literals can be created by using the notation x + yj where x is the real component and y is the imaginary component."
   ]
  },
  {
   "cell_type": "code",
   "execution_count": 15,
   "metadata": {},
   "outputs": [
    {
     "data": {
      "text/plain": [
       "(1+2j)"
      ]
     },
     "execution_count": 15,
     "metadata": {},
     "output_type": "execute_result"
    }
   ],
   "source": [
    "x = 1.0 + 2.0j\n",
    "x"
   ]
  },
  {
   "cell_type": "code",
   "execution_count": 24,
   "metadata": {},
   "outputs": [
    {
     "data": {
      "text/plain": [
       "10.0"
      ]
     },
     "execution_count": 24,
     "metadata": {},
     "output_type": "execute_result"
    }
   ],
   "source": [
    "x\n",
    "a"
   ]
  },
  {
   "cell_type": "code",
   "execution_count": 28,
   "metadata": {},
   "outputs": [
    {
     "name": "stdout",
     "output_type": "stream",
     "text": [
      "56.0 75.0\n"
     ]
    }
   ],
   "source": [
    "y = 56 + 75j\n",
    "y\n",
    "print (y.real,y.imag)"
   ]
  },
  {
   "cell_type": "markdown",
   "metadata": {},
   "source": [
    "# Sequence\n",
    " A sequence is an ordered collection of items, indexed by positive integers. It is\n",
    "combination of mutable and non mutable data types. Three types of sequence data\n",
    "type available in Python are Strings, Lists & Tuples.\n",
    "\n",
    "#String:\n",
    "is an ordered sequence of letters/characters. They are enclosed in\n",
    "single quotes („ ‟) or double („‟ “). The quotes are not part of string. They only\n",
    "tell the computer where the string constant begins and ends. They can have\n",
    "any character or sign, including space in them. These are immutable data\n",
    "types. We will learn about immutable data types while dealing with third\n",
    "aspect of object i.e. value of object. "
   ]
  },
  {
   "cell_type": "code",
   "execution_count": 30,
   "metadata": {},
   "outputs": [
    {
     "data": {
      "text/plain": [
       "'ram'"
      ]
     },
     "execution_count": 30,
     "metadata": {},
     "output_type": "execute_result"
    }
   ],
   "source": [
    "a= 'ram'\n",
    "a"
   ]
  },
  {
   "cell_type": "code",
   "execution_count": 31,
   "metadata": {},
   "outputs": [
    {
     "data": {
      "text/plain": [
       "str"
      ]
     },
     "execution_count": 31,
     "metadata": {},
     "output_type": "execute_result"
    }
   ],
   "source": [
    "type(\"good morining\")"
   ]
  },
  {
   "cell_type": "code",
   "execution_count": 32,
   "metadata": {},
   "outputs": [
    {
     "data": {
      "text/plain": [
       "str"
      ]
     },
     "execution_count": 32,
     "metadata": {},
     "output_type": "execute_result"
    }
   ],
   "source": [
    "type(\"1234\")"
   ]
  },
  {
   "cell_type": "markdown",
   "metadata": {},
   "source": [
    "It is possible to change one type of value/ variable to another type. It is\n",
    "known as type conversion or type casting. The conversion can be done\n",
    "explicitly (programmer specifies the conversions) or implicitly (Interpreter\n",
    "automatically converts the data type).\n",
    " For explicit type casting, we use functions (constructors):\n",
    " \n",
    " int ()\n",
    " \n",
    " float ()\n",
    " \n",
    " str ()\n",
    " \n",
    " bool () "
   ]
  },
  {
   "cell_type": "markdown",
   "metadata": {},
   "source": [
    "Example\n",
    " >>> a= 12.34\n",
    " >>> b= int(a)\n",
    " >>> print b\n",
    " 12 "
   ]
  },
  {
   "cell_type": "code",
   "execution_count": 37,
   "metadata": {},
   "outputs": [
    {
     "name": "stdout",
     "output_type": "stream",
     "text": [
      "12\n"
     ]
    }
   ],
   "source": [
    "a= 12.45\n",
    "b= int(a)\n",
    "b\n",
    "print(b)"
   ]
  },
  {
   "cell_type": "markdown",
   "metadata": {},
   "source": [
    "Example\n",
    " >>>a=25\n",
    " >>>y=float(a)\n",
    " >>>print y\n",
    " 25.0"
   ]
  },
  {
   "cell_type": "code",
   "execution_count": 39,
   "metadata": {},
   "outputs": [
    {
     "name": "stdout",
     "output_type": "stream",
     "text": [
      "25.0\n"
     ]
    }
   ],
   "source": [
    "a= 25\n",
    "y= float(a)\n",
    "print(y)"
   ]
  },
  {
   "cell_type": "markdown",
   "metadata": {},
   "source": [
    "Lists: List is also a sequence of values of any type. Values in the list are called\n",
    "elements / items. These are mutable and indexed/ordered. List is enclosed in\n",
    "square brackets.\n",
    " Example\n",
    " l = [\"spam\", 20.5,5]\n",
    " "
   ]
  },
  {
   "cell_type": "code",
   "execution_count": 40,
   "metadata": {},
   "outputs": [],
   "source": [
    "l = [\"spam\",20.99, 56]"
   ]
  },
  {
   "cell_type": "code",
   "execution_count": 43,
   "metadata": {},
   "outputs": [
    {
     "name": "stdout",
     "output_type": "stream",
     "text": [
      "['spam', 20.99, 56]\n"
     ]
    },
    {
     "data": {
      "text/plain": [
       "list"
      ]
     },
     "execution_count": 43,
     "metadata": {},
     "output_type": "execute_result"
    }
   ],
   "source": [
    "print(l)\n",
    "type(l)"
   ]
  },
  {
   "cell_type": "markdown",
   "metadata": {},
   "source": [
    "Tuples: Tuples are a sequence of values of any type, and are indexed by\n",
    "integers. They are immutable. Tuples are enclosed in (). We have already seen\n",
    "a tuple, in\n",
    "Example 2 (4, 2). "
   ]
  },
  {
   "cell_type": "code",
   "execution_count": 42,
   "metadata": {},
   "outputs": [
    {
     "data": {
      "text/plain": [
       "tuple"
      ]
     },
     "execution_count": 42,
     "metadata": {},
     "output_type": "execute_result"
    }
   ],
   "source": [
    "t =(4,34)\n",
    "type(t)"
   ]
  },
  {
   "cell_type": "markdown",
   "metadata": {},
   "source": [
    "Set is an unordered collection of values, of any type, with no duplicate entry. Sets\n",
    "are immutable.\n",
    " Example\n",
    " s = {a,b,c}"
   ]
  },
  {
   "cell_type": "code",
   "execution_count": 45,
   "metadata": {},
   "outputs": [
    {
     "data": {
      "text/plain": [
       "list"
      ]
     },
     "execution_count": 45,
     "metadata": {},
     "output_type": "execute_result"
    }
   ],
   "source": [
    "s= ([1,2,34])\n",
    "type(s)"
   ]
  },
  {
   "cell_type": "code",
   "execution_count": 46,
   "metadata": {},
   "outputs": [
    {
     "data": {
      "text/plain": [
       "set"
      ]
     },
     "execution_count": 46,
     "metadata": {},
     "output_type": "execute_result"
    }
   ],
   "source": [
    "s= {'apple',11,132.5}\n",
    "type(s)"
   ]
  },
  {
   "cell_type": "markdown",
   "metadata": {},
   "source": [
    "Mapping\n",
    "This data type is unordered and mutable. Dictionaries fall under Mappings. \n",
    "Dictionaries: Can store any number of python objects. What they store is a\n",
    "key – value pairs, which are accessed using key. Dictionary is enclosed in\n",
    "curly brackets.\n",
    " Example\n",
    " d = {1:'a',2:'b',3:'c'} "
   ]
  },
  {
   "cell_type": "code",
   "execution_count": 47,
   "metadata": {},
   "outputs": [
    {
     "data": {
      "text/plain": [
       "dict"
      ]
     },
     "execution_count": 47,
     "metadata": {},
     "output_type": "execute_result"
    }
   ],
   "source": [
    "d= {1:\"a\", 2:'d', 3:'f'}\n",
    "type(d)"
   ]
  },
  {
   "cell_type": "markdown",
   "metadata": {},
   "source": [
    "# Value of Object (variable) – \n",
    "\n",
    "to bind value to a variable, we use assignment\n",
    "operator (=). This is also known as building of a variable.\n",
    "Example\n",
    " >>> pi = 31415\n",
    "Here, value on RHS of \"=\" is assigned to newly created \"pi\" variable. "
   ]
  },
  {
   "cell_type": "code",
   "execution_count": 49,
   "metadata": {},
   "outputs": [
    {
     "data": {
      "text/plain": [
       "3.141"
      ]
     },
     "execution_count": 49,
     "metadata": {},
     "output_type": "execute_result"
    }
   ],
   "source": [
    "pi = 3.141\n",
    "pi"
   ]
  },
  {
   "cell_type": "markdown",
   "metadata": {},
   "source": [
    "# Mutable and Immutable Variables\n",
    "A mutable variable is one whose value may change in place, whereas in an immutable\n",
    "variable change of value will not happen in place. Modifying an immutable variable\n",
    "will rebuild the same variable.\n",
    "Example\n",
    " >>>x=5\n",
    " Will create a value 5 referenced by x\n",
    " x 5\n",
    " >>>y=x\n",
    " This statement will make y refer to 5 of x\n",
    " x\n",
    " 5\n",
    " y\n",
    " >>> x=x+y\n",
    "As x being integer (immutable type) has been rebuild.\n",
    "In the statement, expression on RHS will result into value 10 and when this is assigned\n",
    "to LHS (x), x will rebuild to 10."
   ]
  },
  {
   "cell_type": "code",
   "execution_count": 51,
   "metadata": {},
   "outputs": [
    {
     "ename": "NameError",
     "evalue": "name 'keywords' is not defined",
     "output_type": "error",
     "traceback": [
      "\u001b[1;31m---------------------------------------------------------------------------\u001b[0m",
      "\u001b[1;31mNameError\u001b[0m                                 Traceback (most recent call last)",
      "\u001b[1;32m<ipython-input-51-87ac60130bb1>\u001b[0m in \u001b[0;36m<module>\u001b[1;34m\u001b[0m\n\u001b[1;32m----> 1\u001b[1;33m \u001b[0mprint\u001b[0m\u001b[1;33m(\u001b[0m\u001b[0mkeywords\u001b[0m\u001b[1;33m)\u001b[0m\u001b[1;33m\u001b[0m\u001b[1;33m\u001b[0m\u001b[0m\n\u001b[0m",
      "\u001b[1;31mNameError\u001b[0m: name 'keywords' is not defined"
     ]
    }
   ],
   "source": [
    "print(keywords)"
   ]
  },
  {
   "cell_type": "markdown",
   "metadata": {},
   "source": [
    "# Keyword\tDescription\n",
    "\n",
    "\n",
    "    and - A logical operator\n",
    "\n",
    "    as - To create an alias\n",
    "\n",
    "    assert - For debugging\n",
    "\n",
    "    break -\tTo break out of a loop\n",
    "\n",
    "    class -\tTo define a class\n",
    "\n",
    "    continue -\tTo continue to the next iteration of a loop\n",
    "\n",
    "    def -\tTo define a function\n",
    "\n",
    "    del -\tTo delete an object\n",
    "\n",
    "    elif -\tUsed in conditional statements, same as else if\n",
    "\n",
    "    else -\tUsed in conditional statements\n",
    "\n",
    "    except -\tUsed with exceptions, what to do when an exception occurs\n",
    "\n",
    "    False -\tBoolean value, result of comparison operations\n",
    "\n",
    "    finally -\tUsed with exceptions, a block of code that will be executed no matter if there is an exception or not\n",
    "\n",
    "    for -\tTo create a for loop\n",
    "\n",
    "    from -\tTo import specific parts of a module\n",
    "\n",
    "    global -\tTo declare a global variable\n",
    "\n",
    "    if -\tTo make a conditional statement\n",
    "\n",
    "    import -\tTo import a module\n",
    "\n",
    "    in -\tTo check if a value is present in a list, tuple, etc.\n",
    "\n",
    "    is -\tTo test if two variables are equal\n",
    "\n",
    "    lambda -\tTo create an anonymous function\n",
    "\n",
    "    None -\tRepresents a null value\n",
    "\n",
    "    nonlocal -\tTo declare a non-local variable\n",
    "\n",
    "    not -\tA logical operator\n",
    "\n",
    "    or -\tA logical operator\n",
    "\n",
    "    pass -\tA null statement, a statement that will do nothing\n",
    "\n",
    "    raise -\tTo raise an exception\n",
    "\n",
    "    return -\tTo exit a function and return a value\n",
    "\n",
    "    True -\tBoolean value, result of comparison operations\n",
    "\n",
    "    try -\tTo make a try...except statement\n",
    "\n",
    "    while -\tTo create a while loop\n",
    "\n",
    "    with -\tUsed to simplify exception handling\n",
    "\n",
    "    yield -\tTo end a function, returns a generator\n",
    "    "
   ]
  },
  {
   "cell_type": "code",
   "execution_count": 53,
   "metadata": {},
   "outputs": [
    {
     "name": "stdout",
     "output_type": "stream",
     "text": [
      "['False', 'None', 'True', 'and', 'as', 'assert', 'async', 'await', 'break', 'class', 'continue', 'def', 'del', 'elif', 'else', 'except', 'finally', 'for', 'from', 'global', 'if', 'import', 'in', 'is', 'lambda', 'nonlocal', 'not', 'or', 'pass', 'raise', 'return', 'try', 'while', 'with', 'yield']\n"
     ]
    }
   ],
   "source": [
    "import keyword\n",
    "print(keyword.kwlist)"
   ]
  },
  {
   "cell_type": "markdown",
   "metadata": {},
   "source": [
    "# Operators and Operands\n",
    "Operators are special symbols which represents computation. They are applied on\n",
    "operand(s), which can be values or variables. Same operator can behave differently on\n",
    "different data types. Operators when applied on operands form an expression.\n",
    "Operators are categorized as Arithmetic, Relational, Logical and Assignment. Value and\n",
    "variables when used with operator are known as operands."
   ]
  },
  {
   "cell_type": "markdown",
   "metadata": {},
   "source": [
    "###  Mathematical/Arithmetic Operators \n",
    "###     + Addition\n",
    ">>>55+45\n",
    "100\n",
    ">>> 'Good' + 'Morning'\n",
    "GoodMorning"
   ]
  },
  {
   "cell_type": "markdown",
   "metadata": {},
   "source": [
    "### - Subtraction\n",
    ">>>55-45\n",
    "10\n",
    ">>>30-80\n",
    "-50"
   ]
  },
  {
   "cell_type": "markdown",
   "metadata": {},
   "source": [
    "### * Multiplication\n",
    ">>>55*45\n",
    "2475\n",
    ">>> 'Good' * 3\n",
    "GoodGoodGood"
   ]
  },
  {
   "cell_type": "markdown",
   "metadata": {},
   "source": [
    "### / Division\n",
    ">>>17/5\n",
    "3\n",
    ">>>17/5.0\n",
    "3.4\n",
    ">>> 17.0/5\n",
    "3.4\n",
    ">>>28/3\n",
    "9"
   ]
  },
  {
   "cell_type": "code",
   "execution_count": 54,
   "metadata": {},
   "outputs": [
    {
     "data": {
      "text/plain": [
       "3.4"
      ]
     },
     "execution_count": 54,
     "metadata": {},
     "output_type": "execute_result"
    }
   ],
   "source": [
    "float(17/5)"
   ]
  },
  {
   "cell_type": "code",
   "execution_count": 56,
   "metadata": {},
   "outputs": [
    {
     "data": {
      "text/plain": [
       "3.4"
      ]
     },
     "execution_count": 56,
     "metadata": {},
     "output_type": "execute_result"
    }
   ],
   "source": [
    "a=17/5\n",
    "a"
   ]
  },
  {
   "cell_type": "code",
   "execution_count": 57,
   "metadata": {},
   "outputs": [
    {
     "data": {
      "text/plain": [
       "9.333333333333334"
      ]
     },
     "execution_count": 57,
     "metadata": {},
     "output_type": "execute_result"
    }
   ],
   "source": [
    "28/3"
   ]
  },
  {
   "cell_type": "markdown",
   "metadata": {},
   "source": [
    "### % Remainder/Modulo\n",
    ">>>17%5\n",
    "2\n",
    ">>> 23%2\n",
    "1"
   ]
  },
  {
   "cell_type": "code",
   "execution_count": 58,
   "metadata": {},
   "outputs": [
    {
     "data": {
      "text/plain": [
       "3"
      ]
     },
     "execution_count": 58,
     "metadata": {},
     "output_type": "execute_result"
    }
   ],
   "source": [
    "23%4"
   ]
  },
  {
   "cell_type": "code",
   "execution_count": 59,
   "metadata": {},
   "outputs": [
    {
     "data": {
      "text/plain": [
       "1"
      ]
     },
     "execution_count": 59,
     "metadata": {},
     "output_type": "execute_result"
    }
   ],
   "source": [
    "43%2"
   ]
  },
  {
   "cell_type": "markdown",
   "metadata": {},
   "source": [
    "## ** Exponentiation the operation of raising one quantity to the power of another.\n",
    ">>>2**3\n",
    "8\n",
    ">>>16**.5\n",
    "4.0\n",
    ">>>2**8\n",
    "256"
   ]
  },
  {
   "cell_type": "code",
   "execution_count": 60,
   "metadata": {},
   "outputs": [
    {
     "data": {
      "text/plain": [
       "16"
      ]
     },
     "execution_count": 60,
     "metadata": {},
     "output_type": "execute_result"
    }
   ],
   "source": [
    "2**4"
   ]
  },
  {
   "cell_type": "code",
   "execution_count": 61,
   "metadata": {},
   "outputs": [
    {
     "data": {
      "text/plain": [
       "1024"
      ]
     },
     "execution_count": 61,
     "metadata": {},
     "output_type": "execute_result"
    }
   ],
   "source": [
    "2**10"
   ]
  },
  {
   "cell_type": "code",
   "execution_count": 62,
   "metadata": {},
   "outputs": [
    {
     "data": {
      "text/plain": [
       "633825300114114700748351602688"
      ]
     },
     "execution_count": 62,
     "metadata": {},
     "output_type": "execute_result"
    }
   ],
   "source": [
    "2**99"
   ]
  },
  {
   "cell_type": "code",
   "execution_count": 63,
   "metadata": {},
   "outputs": [
    {
     "data": {
      "text/plain": [
       "10715086071862673209484250490600018105614048117055336074437503883703510511249361224931983788156958581275946729175531468251871452856923140435984577574698574803934567774824230985421074605062371141877954182153046474983581941267398767559165543946077062914571196477686542167660429831652624386837205668069376"
      ]
     },
     "execution_count": 63,
     "metadata": {},
     "output_type": "execute_result"
    }
   ],
   "source": [
    "2**1000"
   ]
  },
  {
   "cell_type": "code",
   "execution_count": 66,
   "metadata": {},
   "outputs": [
    {
     "data": {
      "text/plain": [
       "23299595539474764248600588884705154550578128034000001864241269792814628422704627029031967237407929835748309597478227559636327757590090840973329142176224106376499512880003556231539307219362835037458484297571417171194151363353152321313981061153028323473568385427909083422156902155659653349997229760435635163554132240548775027076650715541610595918554767293662383359200105478769691023923284990534701600489328225237819795935230370656691952401809804088435186105569836274115701566590280495830217244893382567646807618181336620932556828088439098033011576357363351908467552274472058545306198016365950069427261232791218458180384489716471860119088556354601933153031370617049749197100184983293236627404008890766557049692798800432036090599035227587285300085305411982799787550879112092557402522352399826893261854604327809307496147535336772571687077183005774537921"
      ]
     },
     "execution_count": 66,
     "metadata": {},
     "output_type": "execute_result"
    }
   ],
   "source": [
    "9**888"
   ]
  },
  {
   "cell_type": "markdown",
   "metadata": {},
   "source": [
    "### // Integer Division \n",
    "Multiplication and Division of Integers.\n",
    "\n",
    "RULE 1: The product of a positive integer and a negative integer is negative.\n",
    "RULE 2: The product of two positive integers is positive.\n",
    "RULE 3: The product of two negative integers is positive.\n",
    ">>>7.0//2\n",
    "3.0\n",
    ">>>3/ / 2\n",
    "1\n",
    "Note: Division is Implementation Dependent"
   ]
  },
  {
   "cell_type": "code",
   "execution_count": 67,
   "metadata": {},
   "outputs": [
    {
     "data": {
      "text/plain": [
       "4.0"
      ]
     },
     "execution_count": 67,
     "metadata": {},
     "output_type": "execute_result"
    }
   ],
   "source": [
    "8.9//2"
   ]
  },
  {
   "cell_type": "code",
   "execution_count": 68,
   "metadata": {},
   "outputs": [
    {
     "data": {
      "text/plain": [
       "4"
      ]
     },
     "execution_count": 68,
     "metadata": {},
     "output_type": "execute_result"
    }
   ],
   "source": [
    "9//2"
   ]
  },
  {
   "cell_type": "code",
   "execution_count": 69,
   "metadata": {},
   "outputs": [
    {
     "data": {
      "text/plain": [
       "4.0"
      ]
     },
     "execution_count": 69,
     "metadata": {},
     "output_type": "execute_result"
    }
   ],
   "source": [
    "9//2.0"
   ]
  },
  {
   "cell_type": "code",
   "execution_count": 70,
   "metadata": {},
   "outputs": [
    {
     "data": {
      "text/plain": [
       "-12"
      ]
     },
     "execution_count": 70,
     "metadata": {},
     "output_type": "execute_result"
    }
   ],
   "source": [
    "-23//2"
   ]
  },
  {
   "cell_type": "code",
   "execution_count": 71,
   "metadata": {},
   "outputs": [
    {
     "data": {
      "text/plain": [
       "11"
      ]
     },
     "execution_count": 71,
     "metadata": {},
     "output_type": "execute_result"
    }
   ],
   "source": [
    "-23//-2"
   ]
  },
  {
   "cell_type": "code",
   "execution_count": null,
   "metadata": {},
   "outputs": [],
   "source": []
  },
  {
   "cell_type": "code",
   "execution_count": null,
   "metadata": {},
   "outputs": [],
   "source": []
  },
  {
   "cell_type": "code",
   "execution_count": null,
   "metadata": {},
   "outputs": [],
   "source": []
  },
  {
   "cell_type": "code",
   "execution_count": null,
   "metadata": {},
   "outputs": [],
   "source": []
  },
  {
   "cell_type": "code",
   "execution_count": null,
   "metadata": {},
   "outputs": [],
   "source": []
  }
 ],
 "metadata": {
  "kernelspec": {
   "display_name": "Python 3",
   "language": "python",
   "name": "python3"
  },
  "language_info": {
   "codemirror_mode": {
    "name": "ipython",
    "version": 3
   },
   "file_extension": ".py",
   "mimetype": "text/x-python",
   "name": "python",
   "nbconvert_exporter": "python",
   "pygments_lexer": "ipython3",
   "version": "3.7.6"
  }
 },
 "nbformat": 4,
 "nbformat_minor": 4
}
